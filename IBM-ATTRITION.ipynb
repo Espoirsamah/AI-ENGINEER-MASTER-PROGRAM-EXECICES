{
 "cells": [
  {
   "cell_type": "code",
   "execution_count": null,
   "metadata": {},
   "outputs": [],
   "source": [
    "IBM HR Analytics Employee Attrition Modeling .\n",
    "\n",
    "DESCRIPTION\n",
    "\n",
    "IBM is an American MNC operating in around 170 countries with major business vertical as computing, software, and hardware.\n",
    "Attrition is a major risk to service-providing organizations where trained and experienced people are the assets of the company. \n",
    "The organization would like to identify the factors which influence the attrition of employees.\n",
    "\n",
    "Analysis Task:\n",
    "- Import attrition dataset and import libraries such as pandas, matplotlib.pyplot, numpy, and seaborn.\n",
    "- Exploratory data analysis\n",
    "\n",
    "    Find the age distribution of employees in IBM\n",
    "    Explore attrition by age\n",
    "    Explore data for Left employees\n",
    "    Find out the distribution of employees by the education field\n",
    "    Give a bar chart for the number of married and unmarried employees\n",
    "\n",
    "- Build up a logistic regression model to predict which employees are likely to attrite."
   ]
  },
  {
   "cell_type": "code",
   "execution_count": null,
   "metadata": {},
   "outputs": [],
   "source": [
    "##IBM attrition data science project...\n",
    "#let's import librairies, pandas, numpy, matplotlib.pyplot, and seaborn\n",
    "import numpy as np \n",
    "import pandas as pd \n",
    "import tensorflow as tf\n",
    "import matplotlib.pyplot as plt\n",
    "%matplotlib inline\n",
    "from patsy import dmatrices\n",
    "import sklearn\n",
    "import seaborn as sns"
   ]
  },
  {
   "cell_type": "code",
   "execution_count": 124,
   "metadata": {},
   "outputs": [
    {
     "data": {
      "text/html": [
       "<div>\n",
       "<style scoped>\n",
       "    .dataframe tbody tr th:only-of-type {\n",
       "        vertical-align: middle;\n",
       "    }\n",
       "\n",
       "    .dataframe tbody tr th {\n",
       "        vertical-align: top;\n",
       "    }\n",
       "\n",
       "    .dataframe thead th {\n",
       "        text-align: right;\n",
       "    }\n",
       "</style>\n",
       "<table border=\"1\" class=\"dataframe\">\n",
       "  <thead>\n",
       "    <tr style=\"text-align: right;\">\n",
       "      <th></th>\n",
       "      <th>Age</th>\n",
       "      <th>Attrition</th>\n",
       "      <th>Department</th>\n",
       "      <th>DistanceFromHome</th>\n",
       "      <th>Education</th>\n",
       "      <th>EducationField</th>\n",
       "      <th>EnvironmentSatisfaction</th>\n",
       "      <th>JobSatisfaction</th>\n",
       "      <th>MaritalStatus</th>\n",
       "      <th>MonthlyIncome</th>\n",
       "      <th>NumCompaniesWorked</th>\n",
       "      <th>WorkLifeBalance</th>\n",
       "      <th>YearsAtCompany</th>\n",
       "    </tr>\n",
       "  </thead>\n",
       "  <tbody>\n",
       "    <tr>\n",
       "      <th>0</th>\n",
       "      <td>41</td>\n",
       "      <td>Yes</td>\n",
       "      <td>Sales</td>\n",
       "      <td>1</td>\n",
       "      <td>2</td>\n",
       "      <td>Life Sciences</td>\n",
       "      <td>2</td>\n",
       "      <td>4</td>\n",
       "      <td>Single</td>\n",
       "      <td>5993</td>\n",
       "      <td>8</td>\n",
       "      <td>1</td>\n",
       "      <td>6</td>\n",
       "    </tr>\n",
       "    <tr>\n",
       "      <th>1</th>\n",
       "      <td>49</td>\n",
       "      <td>No</td>\n",
       "      <td>Research &amp; Development</td>\n",
       "      <td>8</td>\n",
       "      <td>1</td>\n",
       "      <td>Life Sciences</td>\n",
       "      <td>3</td>\n",
       "      <td>2</td>\n",
       "      <td>Married</td>\n",
       "      <td>5130</td>\n",
       "      <td>1</td>\n",
       "      <td>3</td>\n",
       "      <td>10</td>\n",
       "    </tr>\n",
       "    <tr>\n",
       "      <th>2</th>\n",
       "      <td>37</td>\n",
       "      <td>Yes</td>\n",
       "      <td>Research &amp; Development</td>\n",
       "      <td>2</td>\n",
       "      <td>2</td>\n",
       "      <td>Other</td>\n",
       "      <td>4</td>\n",
       "      <td>3</td>\n",
       "      <td>Single</td>\n",
       "      <td>2090</td>\n",
       "      <td>6</td>\n",
       "      <td>3</td>\n",
       "      <td>0</td>\n",
       "    </tr>\n",
       "    <tr>\n",
       "      <th>3</th>\n",
       "      <td>33</td>\n",
       "      <td>No</td>\n",
       "      <td>Research &amp; Development</td>\n",
       "      <td>3</td>\n",
       "      <td>4</td>\n",
       "      <td>Life Sciences</td>\n",
       "      <td>4</td>\n",
       "      <td>3</td>\n",
       "      <td>Married</td>\n",
       "      <td>2909</td>\n",
       "      <td>1</td>\n",
       "      <td>3</td>\n",
       "      <td>8</td>\n",
       "    </tr>\n",
       "    <tr>\n",
       "      <th>4</th>\n",
       "      <td>27</td>\n",
       "      <td>No</td>\n",
       "      <td>Research &amp; Development</td>\n",
       "      <td>2</td>\n",
       "      <td>1</td>\n",
       "      <td>Medical</td>\n",
       "      <td>1</td>\n",
       "      <td>2</td>\n",
       "      <td>Married</td>\n",
       "      <td>3468</td>\n",
       "      <td>9</td>\n",
       "      <td>3</td>\n",
       "      <td>2</td>\n",
       "    </tr>\n",
       "  </tbody>\n",
       "</table>\n",
       "</div>"
      ],
      "text/plain": [
       "   Age Attrition              Department  DistanceFromHome  Education  \\\n",
       "0   41       Yes                   Sales                 1          2   \n",
       "1   49        No  Research & Development                 8          1   \n",
       "2   37       Yes  Research & Development                 2          2   \n",
       "3   33        No  Research & Development                 3          4   \n",
       "4   27        No  Research & Development                 2          1   \n",
       "\n",
       "  EducationField  EnvironmentSatisfaction  JobSatisfaction MaritalStatus  \\\n",
       "0  Life Sciences                        2                4        Single   \n",
       "1  Life Sciences                        3                2       Married   \n",
       "2          Other                        4                3        Single   \n",
       "3  Life Sciences                        4                3       Married   \n",
       "4        Medical                        1                2       Married   \n",
       "\n",
       "   MonthlyIncome  NumCompaniesWorked  WorkLifeBalance  YearsAtCompany  \n",
       "0           5993                   8                1               6  \n",
       "1           5130                   1                3              10  \n",
       "2           2090                   6                3               0  \n",
       "3           2909                   1                3               8  \n",
       "4           3468                   9                3               2  "
      ]
     },
     "execution_count": 124,
     "metadata": {},
     "output_type": "execute_result"
    }
   ],
   "source": [
    "#let's define data path for our dataset\n",
    "data_path = (\"/Users/sph-it/Desktop/AI/IBM-ATTRITION.csv\")\n",
    "read_data = pd.read_csv(data_path)\n",
    "read_data.head()"
   ]
  },
  {
   "cell_type": "code",
   "execution_count": 125,
   "metadata": {},
   "outputs": [
    {
     "data": {
      "text/plain": [
       "array(['Age', 'Attrition', 'Department', 'DistanceFromHome', 'Education',\n",
       "       'EducationField', 'EnvironmentSatisfaction', 'JobSatisfaction',\n",
       "       'MaritalStatus', 'MonthlyIncome', 'NumCompaniesWorked',\n",
       "       'WorkLifeBalance', 'YearsAtCompany'], dtype=object)"
      ]
     },
     "execution_count": 125,
     "metadata": {},
     "output_type": "execute_result"
    }
   ],
   "source": [
    "names = read_data.columns.values\n",
    "names"
   ]
  },
  {
   "cell_type": "code",
   "execution_count": 126,
   "metadata": {},
   "outputs": [
    {
     "data": {
      "image/png": "[encoded data removed]",
      "text/plain": [
       "<Figure size 720x504 with 1 Axes>"
      ]
     },
     "metadata": {
      "needs_background": "light"
     },
     "output_type": "display_data"
    }
   ],
   "source": [
    "##Find the age distribution of employees in IBM(Histogram)\n",
    "import matplotlib.pyplot as plt\n",
    "plt.figure(figsize=(10,7))\n",
    "read_data['Age'].hist(bins=70)\n",
    "plt.title(\"Age distribution of Employees\")\n",
    "plt.xlabel(\"Age\")\n",
    "plt.ylabel(\"# of Employees\")\n",
    "plt.show()"
   ]
  },
  {
   "cell_type": "code",
   "execution_count": 127,
   "metadata": {},
   "outputs": [
    {
     "data": {
      "image/png": "[encoded data removed]",
      "text/plain": [
       "<Figure size 1008x720 with 1 Axes>"
      ]
     },
     "metadata": {
      "needs_background": "light"
     },
     "output_type": "display_data"
    }
   ],
   "source": [
    "#Explore attrition by age from the dataset...\n",
    "plt.figure(figsize=(14,10))\n",
    "plt.scatter(read_data.Attrition,read_data.Age, alpha=.55)\n",
    "plt.title(\"Attrition by Age \")\n",
    "plt.ylabel(\"Age\")\n",
    "plt.grid(b=True, which='major',axis='y')\n",
    "plt.show()"
   ]
  },
  {
   "cell_type": "code",
   "execution_count": 128,
   "metadata": {},
   "outputs": [
    {
     "data": {
      "image/png": "[encoded data removed]",
      "text/plain": [
       "<Figure size 576x432 with 1 Axes>"
      ]
     },
     "metadata": {
      "needs_background": "light"
     },
     "output_type": "display_data"
    }
   ],
   "source": [
    "# explore data for Left employees breakdown\n",
    "plt.figure(figsize=(8,6))\n",
    "read_data.Attrition.value_counts().plot(kind='barh',color='#060',alpha=.65)\n",
    "plt.title(\"Attrition breakdown \")\n",
    "plt.show()"
   ]
  },
  {
   "cell_type": "code",
   "execution_count": 129,
   "metadata": {},
   "outputs": [
    {
     "data": {
      "image/png": "[encoded data removed]",
      "text/plain": [
       "<Figure size 720x576 with 1 Axes>"
      ]
     },
     "metadata": {
      "needs_background": "light"
     },
     "output_type": "display_data"
    }
   ],
   "source": [
    "# explore data for Education Field distribution\n",
    "plt.figure(figsize=(10,8))\n",
    "read_data.EducationField.value_counts().plot(kind='barh',color='red',alpha=.65)\n",
    "plt.title(\"Education Field Distribution\")\n",
    "plt.show()"
   ]
  },
  {
   "cell_type": "code",
   "execution_count": 130,
   "metadata": {},
   "outputs": [
    {
     "data": {
      "image/png": "[encoded data removed]",
      "text/plain": [
       "<Figure size 576x432 with 1 Axes>"
      ]
     },
     "metadata": {
      "needs_background": "light"
     },
     "output_type": "display_data"
    }
   ],
   "source": [
    "# explore data for Marital Status\n",
    "plt.figure(figsize=(8,6))\n",
    "read_data.MaritalStatus.value_counts().plot(kind='barh',color='orange',alpha=.65)\n",
    "plt.title(\"Marital Status\")\n",
    "plt.show()"
   ]
  },
  {
   "cell_type": "code",
   "execution_count": 131,
   "metadata": {},
   "outputs": [
    {
     "data": {
      "text/plain": [
       "<bound method NDFrame.describe of       Age Attrition              Department  DistanceFromHome  Education  \\\n",
       "0      41       Yes                   Sales                 1          2   \n",
       "1      49        No  Research & Development                 8          1   \n",
       "2      37       Yes  Research & Development                 2          2   \n",
       "3      33        No  Research & Development                 3          4   \n",
       "4      27        No  Research & Development                 2          1   \n",
       "...   ...       ...                     ...               ...        ...   \n",
       "1465   36        No  Research & Development                23          2   \n",
       "1466   39        No  Research & Development                 6          1   \n",
       "1467   27        No  Research & Development                 4          3   \n",
       "1468   49        No                   Sales                 2          3   \n",
       "1469   34        No  Research & Development                 8          3   \n",
       "\n",
       "     EducationField  EnvironmentSatisfaction  JobSatisfaction MaritalStatus  \\\n",
       "0     Life Sciences                        2                4        Single   \n",
       "1     Life Sciences                        3                2       Married   \n",
       "2             Other                        4                3        Single   \n",
       "3     Life Sciences                        4                3       Married   \n",
       "4           Medical                        1                2       Married   \n",
       "...             ...                      ...              ...           ...   \n",
       "1465        Medical                        3                4       Married   \n",
       "1466        Medical                        4                1       Married   \n",
       "1467  Life Sciences                        2                2       Married   \n",
       "1468        Medical                        4                2       Married   \n",
       "1469        Medical                        2                3       Married   \n",
       "\n",
       "      MonthlyIncome  NumCompaniesWorked  WorkLifeBalance  YearsAtCompany  \n",
       "0              5993                   8                1               6  \n",
       "1              5130                   1                3              10  \n",
       "2              2090                   6                3               0  \n",
       "3              2909                   1                3               8  \n",
       "4              3468                   9                3               2  \n",
       "...             ...                 ...              ...             ...  \n",
       "1465           2571                   4                3               5  \n",
       "1466           9991                   4                3               7  \n",
       "1467           6142                   1                3               6  \n",
       "1468           5390                   2                2               9  \n",
       "1469           4404                   2                4               4  \n",
       "\n",
       "[1470 rows x 13 columns]>"
      ]
     },
     "execution_count": 131,
     "metadata": {},
     "output_type": "execute_result"
    }
   ],
   "source": [
    "##let's describe the content of our dataset...\n",
    "read_data.describe"
   ]
  },
  {
   "cell_type": "code",
   "execution_count": 132,
   "metadata": {},
   "outputs": [
    {
     "name": "stdout",
     "output_type": "stream",
     "text": [
      "<class 'pandas.core.frame.DataFrame'>\n",
      "RangeIndex: 1470 entries, 0 to 1469\n",
      "Data columns (total 13 columns):\n",
      " #   Column                   Non-Null Count  Dtype \n",
      "---  ------                   --------------  ----- \n",
      " 0   Age                      1470 non-null   int64 \n",
      " 1   Attrition                1470 non-null   object\n",
      " 2   Department               1470 non-null   object\n",
      " 3   DistanceFromHome         1470 non-null   int64 \n",
      " 4   Education                1470 non-null   int64 \n",
      " 5   EducationField           1470 non-null   object\n",
      " 6   EnvironmentSatisfaction  1470 non-null   int64 \n",
      " 7   JobSatisfaction          1470 non-null   int64 \n",
      " 8   MaritalStatus            1470 non-null   object\n",
      " 9   MonthlyIncome            1470 non-null   int64 \n",
      " 10  NumCompaniesWorked       1470 non-null   int64 \n",
      " 11  WorkLifeBalance          1470 non-null   int64 \n",
      " 12  YearsAtCompany           1470 non-null   int64 \n",
      "dtypes: int64(9), object(4)\n",
      "memory usage: 149.4+ KB\n"
     ]
    }
   ],
   "source": [
    "#let's get more informations about the dataset..\n",
    "read_data.info()"
   ]
  },
  {
   "cell_type": "code",
   "execution_count": 133,
   "metadata": {},
   "outputs": [
    {
     "data": {
      "text/plain": [
       "Index(['Age', 'Attrition', 'Department', 'DistanceFromHome', 'Education',\n",
       "       'EducationField', 'EnvironmentSatisfaction', 'JobSatisfaction',\n",
       "       'MaritalStatus', 'MonthlyIncome', 'NumCompaniesWorked',\n",
       "       'WorkLifeBalance', 'YearsAtCompany'],\n",
       "      dtype='object')"
      ]
     },
     "execution_count": 133,
     "metadata": {},
     "output_type": "execute_result"
    }
   ],
   "source": [
    "#let's get all columns from the dataset..\n",
    "read_data.columns"
   ]
  },
  {
   "cell_type": "code",
   "execution_count": 134,
   "metadata": {},
   "outputs": [
    {
     "data": {
      "text/plain": [
       "Age                           9.135373\n",
       "DistanceFromHome              8.106864\n",
       "Education                     1.024165\n",
       "EnvironmentSatisfaction       1.093082\n",
       "JobSatisfaction               1.102846\n",
       "MonthlyIncome              4707.956783\n",
       "NumCompaniesWorked            2.498009\n",
       "WorkLifeBalance               0.706476\n",
       "YearsAtCompany                6.126525\n",
       "dtype: float64"
      ]
     },
     "execution_count": 134,
     "metadata": {},
     "output_type": "execute_result"
    }
   ],
   "source": [
    "read_data.std()"
   ]
  },
  {
   "cell_type": "code",
   "execution_count": 135,
   "metadata": {},
   "outputs": [
    {
     "data": {
      "text/plain": [
       "No     1233\n",
       "Yes     237\n",
       "Name: Attrition, dtype: int64"
      ]
     },
     "execution_count": 135,
     "metadata": {},
     "output_type": "execute_result"
    }
   ],
   "source": [
    "read_data['Attrition'].value_counts()"
   ]
  },
  {
   "cell_type": "code",
   "execution_count": 136,
   "metadata": {},
   "outputs": [
    {
     "data": {
      "text/plain": [
       "dtype('O')"
      ]
     },
     "execution_count": 136,
     "metadata": {},
     "output_type": "execute_result"
    }
   ],
   "source": [
    "read_data['Attrition'].dtypes"
   ]
  },
  {
   "cell_type": "code",
   "execution_count": 81,
   "metadata": {},
   "outputs": [],
   "source": [
    "read_data['Attrition'].replace('Yes',1, inplace=True)\n",
    "read_data['Attrition'].replace('No',0, inplace=True)"
   ]
  },
  {
   "cell_type": "code",
   "execution_count": 1,
   "metadata": {},
   "outputs": [
    {
     "ename": "NameError",
     "evalue": "name 'read_data' is not defined",
     "output_type": "error",
     "traceback": [
      "\u001b[0;31m---------------------------------------------------------------------------\u001b[0m",
      "\u001b[0;31mNameError\u001b[0m                                 Traceback (most recent call last)",
      "\u001b[0;32m<ipython-input-1-9de8036a45eb>\u001b[0m in \u001b[0;36m<module>\u001b[0;34m\u001b[0m\n\u001b[0;32m----> 1\u001b[0;31m \u001b[0mread_data\u001b[0m\u001b[0;34m.\u001b[0m\u001b[0mhead\u001b[0m\u001b[0;34m(\u001b[0m\u001b[0;36m10\u001b[0m\u001b[0;34m)\u001b[0m\u001b[0;34m\u001b[0m\u001b[0;34m\u001b[0m\u001b[0m\n\u001b[0m",
      "\u001b[0;31mNameError\u001b[0m: name 'read_data' is not defined"
     ]
    }
   ],
   "source": [
    "read_data.head(10)"
   ]
  },
  {
   "cell_type": "code",
   "execution_count": 138,
   "metadata": {},
   "outputs": [
    {
     "data": {
      "text/plain": [
       "0    Yes\n",
       "1     No\n",
       "2    Yes\n",
       "3     No\n",
       "4     No\n",
       "Name: Attrition, dtype: object"
      ]
     },
     "execution_count": 138,
     "metadata": {},
     "output_type": "execute_result"
    }
   ],
   "source": [
    "# building up a logistic regression model from the dataset....\n",
    "X = read_data.drop(['Attrition'],axis=1)\n",
    "X.head()\n",
    "Y = read_data['Attrition']\n",
    "Y.head()"
   ]
  },
  {
   "cell_type": "code",
   "execution_count": 84,
   "metadata": {},
   "outputs": [],
   "source": [
    "read_data['EducationField'].replace('Life Sciences',1, inplace=True)\n",
    "read_data['EducationField'].replace('Medical',2, inplace=True)\n",
    "read_data['EducationField'].replace('Marketing', 3, inplace=True)\n",
    "read_data['EducationField'].replace('Other',4, inplace=True)\n",
    "read_data['EducationField'].replace('Technical Degree',5, inplace=True)\n",
    "read_data['EducationField'].replace('Human Resources', 6, inplace=True)"
   ]
  },
  {
   "cell_type": "code",
   "execution_count": 139,
   "metadata": {},
   "outputs": [
    {
     "data": {
      "text/plain": [
       "Life Sciences       606\n",
       "Medical             464\n",
       "Marketing           159\n",
       "Technical Degree    132\n",
       "Other                82\n",
       "Human Resources      27\n",
       "Name: EducationField, dtype: int64"
      ]
     },
     "execution_count": 139,
     "metadata": {},
     "output_type": "execute_result"
    }
   ],
   "source": [
    "read_data['EducationField'].value_counts()"
   ]
  },
  {
   "cell_type": "code",
   "execution_count": 140,
   "metadata": {},
   "outputs": [
    {
     "data": {
      "text/plain": [
       "Research & Development    961\n",
       "Sales                     446\n",
       "Human Resources            63\n",
       "Name: Department, dtype: int64"
      ]
     },
     "execution_count": 140,
     "metadata": {},
     "output_type": "execute_result"
    }
   ],
   "source": [
    "read_data['Department'].value_counts()"
   ]
  },
  {
   "cell_type": "code",
   "execution_count": 88,
   "metadata": {},
   "outputs": [],
   "source": [
    "read_data['Department'].replace('Research & Development',1, inplace=True)\n",
    "read_data['Department'].replace('Sales',2, inplace=True)\n",
    "read_data['Department'].replace('Human Resources', 3, inplace=True)"
   ]
  },
  {
   "cell_type": "code",
   "execution_count": 141,
   "metadata": {},
   "outputs": [
    {
     "data": {
      "text/plain": [
       "Research & Development    961\n",
       "Sales                     446\n",
       "Human Resources            63\n",
       "Name: Department, dtype: int64"
      ]
     },
     "execution_count": 141,
     "metadata": {},
     "output_type": "execute_result"
    }
   ],
   "source": [
    "read_data['Department'].value_counts()"
   ]
  },
  {
   "cell_type": "code",
   "execution_count": 90,
   "metadata": {},
   "outputs": [
    {
     "data": {
      "text/plain": [
       "Married     673\n",
       "Single      470\n",
       "Divorced    327\n",
       "Name: MaritalStatus, dtype: int64"
      ]
     },
     "execution_count": 90,
     "metadata": {},
     "output_type": "execute_result"
    }
   ],
   "source": [
    "read_data['MaritalStatus'].value_counts()"
   ]
  },
  {
   "cell_type": "code",
   "execution_count": 91,
   "metadata": {},
   "outputs": [],
   "source": [
    "read_data['MaritalStatus'].replace('Married',1, inplace=True)\n",
    "read_data['MaritalStatus'].replace('Single',2, inplace=True)\n",
    "read_data['MaritalStatus'].replace('Divorced',3, inplace=True)"
   ]
  },
  {
   "cell_type": "code",
   "execution_count": 142,
   "metadata": {},
   "outputs": [
    {
     "data": {
      "text/plain": [
       "Married     673\n",
       "Single      470\n",
       "Divorced    327\n",
       "Name: MaritalStatus, dtype: int64"
      ]
     },
     "execution_count": 142,
     "metadata": {},
     "output_type": "execute_result"
    }
   ],
   "source": [
    "read_data['MaritalStatus'].value_counts()"
   ]
  },
  {
   "cell_type": "code",
   "execution_count": 143,
   "metadata": {},
   "outputs": [
    {
     "data": {
      "text/plain": [
       "Age                        int64\n",
       "DistanceFromHome           int64\n",
       "Education                  int64\n",
       "EnvironmentSatisfaction    int64\n",
       "JobSatisfaction            int64\n",
       "MonthlyIncome              int64\n",
       "NumCompaniesWorked         int64\n",
       "WorkLifeBalance            int64\n",
       "YearsAtCompany             int64\n",
       "dtype: object"
      ]
     },
     "execution_count": 143,
     "metadata": {},
     "output_type": "execute_result"
    }
   ],
   "source": [
    "x=read_data.select_dtypes(include=['int64'])\n",
    "x.dtypes"
   ]
  },
  {
   "cell_type": "code",
   "execution_count": 94,
   "metadata": {},
   "outputs": [
    {
     "data": {
      "text/plain": [
       "Index(['Age', 'Attrition', 'Department', 'DistanceFromHome', 'Education',\n",
       "       'EducationField', 'EnvironmentSatisfaction', 'JobSatisfaction',\n",
       "       'MaritalStatus', 'MonthlyIncome', 'NumCompaniesWorked',\n",
       "       'WorkLifeBalance', 'YearsAtCompany'],\n",
       "      dtype='object')"
      ]
     },
     "execution_count": 94,
     "metadata": {},
     "output_type": "execute_result"
    }
   ],
   "source": [
    "x.columns"
   ]
  },
  {
   "cell_type": "code",
   "execution_count": 144,
   "metadata": {},
   "outputs": [],
   "source": [
    "y = read_data['Attrition']"
   ]
  },
  {
   "cell_type": "code",
   "execution_count": 145,
   "metadata": {},
   "outputs": [
    {
     "data": {
      "text/plain": [
       "0    Yes\n",
       "1     No\n",
       "2    Yes\n",
       "3     No\n",
       "4     No\n",
       "Name: Attrition, dtype: object"
      ]
     },
     "execution_count": 145,
     "metadata": {},
     "output_type": "execute_result"
    }
   ],
   "source": [
    "y.head()"
   ]
  },
  {
   "cell_type": "code",
   "execution_count": 153,
   "metadata": {},
   "outputs": [
    {
     "name": "stdout",
     "output_type": "stream",
     "text": [
      "Index(['Intercept', 'Department[T.Research & Development]',\n",
      "       'Department[T.Sales]', 'EducationField[T.Life Sciences]',\n",
      "       'EducationField[T.Marketing]', 'EducationField[T.Medical]',\n",
      "       'EducationField[T.Other]', 'EducationField[T.Technical Degree]', 'Age',\n",
      "       'DistanceFromHome', 'Education', 'YearsAtCompany'],\n",
      "      dtype='object')\n"
     ]
    }
   ],
   "source": [
    "#let's import require librairie\n",
    "from patsy import dmatrices\n",
    "y, x = dmatrices('Attrition ~ Age + Department + \\\n",
    "                  DistanceFromHome + Education + EducationField + YearsAtCompany',\n",
    "                  read_data, return_type=\"dataframe\")\n",
    "print (x.columns)"
   ]
  },
  {
   "cell_type": "code",
   "execution_count": 154,
   "metadata": {},
   "outputs": [],
   "source": [
    "y = np.ravel(y)"
   ]
  },
  {
   "cell_type": "code",
   "execution_count": null,
   "metadata": {},
   "outputs": [],
   "source": [
    "##let's import require librairie\n",
    "from sklearn.linear_model import LogisticRegression\n",
    "model = LogisticRegression()\n",
    "model = model.fit(x,y)\n",
    "# check the accuracy on the training set\n",
    "model.score(x,y)"
   ]
  },
  {
   "cell_type": "code",
   "execution_count": 115,
   "metadata": {},
   "outputs": [
    {
     "data": {
      "text/plain": [
       "0.16122448979591836"
      ]
     },
     "execution_count": 115,
     "metadata": {},
     "output_type": "execute_result"
    }
   ],
   "source": [
    "y.mean()"
   ]
  },
  {
   "cell_type": "code",
   "execution_count": 121,
   "metadata": {},
   "outputs": [
    {
     "data": {
      "text/plain": [
       "LogisticRegression()"
      ]
     },
     "execution_count": 121,
     "metadata": {},
     "output_type": "execute_result"
    }
   ],
   "source": [
    "#from sklearn.linear_model import LogisticRegression\n",
    "#from sklearn.model_selection import train_test_split\n",
    "#X_train,X_test,y_train,y_test=sklearn.model_selection.train_test_split(x,y, test_size=0.3, random_state=0)\n",
    "from sklearn.model_selection import train_test_split\n",
    "x_train, x_test, y_train, y_test = train_test_split(x,y, test_size=0.3, random_state=1)\n",
    "model2=LogisticRegression()\n",
    "model2.fit(x_train, y_train)"
   ]
  },
  {
   "cell_type": "code",
   "execution_count": 122,
   "metadata": {},
   "outputs": [
    {
     "name": "stdout",
     "output_type": "stream",
     "text": [
      "[0. 0. 0. 0. 0. 0. 0. 0. 0. 0. 0. 0. 0. 0. 0. 0. 0. 0. 0. 0. 0. 0. 0. 0.\n",
      " 0. 0. 0. 0. 0. 0. 0. 0. 0. 0. 0. 0. 0. 0. 0. 0. 0. 0. 0. 0. 0. 0. 0. 0.\n",
      " 0. 0. 0. 0. 0. 0. 0. 0. 0. 0. 0. 0. 0. 0. 0. 0. 0. 0. 0. 0. 0. 0. 0. 0.\n",
      " 0. 0. 0. 0. 0. 0. 0. 0. 0. 0. 0. 1. 0. 0. 0. 0. 0. 0. 0. 0. 0. 0. 0. 0.\n",
      " 0. 0. 0. 0. 0. 0. 0. 0. 0. 0. 0. 0. 0. 0. 0. 0. 0. 0. 0. 0. 0. 0. 0. 0.\n",
      " 0. 0. 0. 0. 0. 0. 0. 0. 0. 0. 0. 0. 0. 0. 0. 0. 0. 0. 0. 0. 0. 0. 0. 0.\n",
      " 0. 0. 0. 0. 0. 0. 0. 0. 0. 0. 0. 0. 0. 0. 0. 0. 0. 0. 0. 0. 0. 0. 0. 0.\n",
      " 0. 0. 0. 0. 0. 0. 0. 0. 0. 0. 0. 0. 0. 0. 0. 0. 0. 0. 0. 0. 0. 0. 0. 0.\n",
      " 0. 0. 0. 0. 0. 0. 0. 0. 0. 0. 0. 0. 0. 0. 0. 0. 0. 0. 0. 0. 0. 0. 0. 0.\n",
      " 0. 0. 0. 0. 0. 0. 0. 0. 0. 0. 0. 0. 0. 0. 0. 0. 0. 0. 0. 0. 0. 0. 0. 0.\n",
      " 0. 0. 0. 0. 0. 0. 0. 0. 0. 0. 0. 0. 0. 0. 0. 0. 0. 0. 0. 0. 0. 0. 0. 0.\n",
      " 0. 0. 0. 0. 0. 0. 0. 0. 0. 0. 0. 0. 0. 0. 0. 0. 0. 0. 0. 0. 0. 0. 0. 0.\n",
      " 0. 0. 0. 0. 0. 0. 0. 0. 0. 0. 0. 0. 0. 0. 0. 0. 0. 0. 0. 0. 0. 0. 0. 0.\n",
      " 0. 0. 0. 0. 0. 0. 0. 0. 0. 0. 0. 0. 0. 0. 0. 0. 0. 0. 0. 0. 0. 0. 0. 0.\n",
      " 0. 0. 0. 0. 0. 0. 0. 0. 0. 0. 0. 0. 0. 0. 0. 0. 0. 0. 0. 0. 0. 0. 0. 0.\n",
      " 0. 0. 0. 0. 0. 0. 0. 0. 0. 0. 0. 0. 0. 0. 0. 0. 0. 0. 0. 0. 0. 0. 0. 0.\n",
      " 0. 0. 0. 0. 0. 0. 0. 0. 0. 0. 0. 0. 0. 0. 0. 0. 0. 0. 0. 0. 0. 0. 0. 0.\n",
      " 0. 0. 0. 0. 0. 0. 0. 0. 0. 0. 0. 0. 0. 0. 0. 0. 0. 0. 0. 0. 0. 0. 0. 0.\n",
      " 0. 0. 0. 0. 0. 0. 0. 0. 0.]\n"
     ]
    }
   ],
   "source": [
    "predicted= model2.predict(x_test)\n",
    "print (predicted)"
   ]
  },
  {
   "cell_type": "code",
   "execution_count": 123,
   "metadata": {},
   "outputs": [
    {
     "name": "stdout",
     "output_type": "stream",
     "text": [
      "[[0.88854645 0.11145355]\n",
      " [0.68074767 0.31925233]\n",
      " [0.78206967 0.21793033]\n",
      " [0.77561848 0.22438152]\n",
      " [0.95545376 0.04454624]\n",
      " [0.75547465 0.24452535]\n",
      " [0.94845664 0.05154336]\n",
      " [0.93137174 0.06862826]\n",
      " [0.84587117 0.15412883]\n",
      " [0.75728324 0.24271676]\n",
      " [0.95935542 0.04064458]\n",
      " [0.84858823 0.15141177]\n",
      " [0.82975238 0.17024762]\n",
      " [0.91257224 0.08742776]\n",
      " [0.84021317 0.15978683]\n",
      " [0.94263502 0.05736498]\n",
      " [0.76135841 0.23864159]\n",
      " [0.66445122 0.33554878]\n",
      " [0.69704524 0.30295476]\n",
      " [0.78192691 0.21807309]\n",
      " [0.90541469 0.09458531]\n",
      " [0.87524399 0.12475601]\n",
      " [0.93228329 0.06771671]\n",
      " [0.8486626  0.1513374 ]\n",
      " [0.70351642 0.29648358]\n",
      " [0.96905604 0.03094396]\n",
      " [0.75719091 0.24280909]\n",
      " [0.8049162  0.1950838 ]\n",
      " [0.89279463 0.10720537]\n",
      " [0.85098009 0.14901991]\n",
      " [0.82839141 0.17160859]\n",
      " [0.90904649 0.09095351]\n",
      " [0.85273018 0.14726982]\n",
      " [0.83066484 0.16933516]\n",
      " [0.77059964 0.22940036]\n",
      " [0.95069671 0.04930329]\n",
      " [0.65976321 0.34023679]\n",
      " [0.69306657 0.30693343]\n",
      " [0.83502302 0.16497698]\n",
      " [0.83403887 0.16596113]\n",
      " [0.95506    0.04494   ]\n",
      " [0.89797993 0.10202007]\n",
      " [0.95009709 0.04990291]\n",
      " [0.7604925  0.2395075 ]\n",
      " [0.93338316 0.06661684]\n",
      " [0.89582793 0.10417207]\n",
      " [0.85678285 0.14321715]\n",
      " [0.86994334 0.13005666]\n",
      " [0.88275387 0.11724613]\n",
      " [0.89309529 0.10690471]\n",
      " [0.91337271 0.08662729]\n",
      " [0.84969277 0.15030723]\n",
      " [0.85175321 0.14824679]\n",
      " [0.86270415 0.13729585]\n",
      " [0.84028472 0.15971528]\n",
      " [0.88201084 0.11798916]\n",
      " [0.82764348 0.17235652]\n",
      " [0.78428229 0.21571771]\n",
      " [0.85789742 0.14210258]\n",
      " [0.91719074 0.08280926]\n",
      " [0.94720536 0.05279464]\n",
      " [0.91601496 0.08398504]\n",
      " [0.89236501 0.10763499]\n",
      " [0.8549192  0.1450808 ]\n",
      " [0.92481939 0.07518061]\n",
      " [0.68892059 0.31107941]\n",
      " [0.94736402 0.05263598]\n",
      " [0.85974484 0.14025516]\n",
      " [0.89651761 0.10348239]\n",
      " [0.80799057 0.19200943]\n",
      " [0.90363964 0.09636036]\n",
      " [0.72556293 0.27443707]\n",
      " [0.85376323 0.14623677]\n",
      " [0.8927142  0.1072858 ]\n",
      " [0.74412671 0.25587329]\n",
      " [0.9279408  0.0720592 ]\n",
      " [0.8537228  0.1462772 ]\n",
      " [0.89736899 0.10263101]\n",
      " [0.80242821 0.19757179]\n",
      " [0.68081382 0.31918618]\n",
      " [0.8907485  0.1092515 ]\n",
      " [0.87457943 0.12542057]\n",
      " [0.96667086 0.03332914]\n",
      " [0.41934603 0.58065397]\n",
      " [0.72495591 0.27504409]\n",
      " [0.71251204 0.28748796]\n",
      " [0.73978357 0.26021643]\n",
      " [0.92207716 0.07792284]\n",
      " [0.74045976 0.25954024]\n",
      " [0.91217711 0.08782289]\n",
      " [0.91393599 0.08606401]\n",
      " [0.81312951 0.18687049]\n",
      " [0.86980843 0.13019157]\n",
      " [0.81549457 0.18450543]\n",
      " [0.90179897 0.09820103]\n",
      " [0.93288753 0.06711247]\n",
      " [0.78975559 0.21024441]\n",
      " [0.89774319 0.10225681]\n",
      " [0.85303195 0.14696805]\n",
      " [0.87366867 0.12633133]\n",
      " [0.77154675 0.22845325]\n",
      " [0.95044884 0.04955116]\n",
      " [0.77679281 0.22320719]\n",
      " [0.92353778 0.07646222]\n",
      " [0.80112475 0.19887525]\n",
      " [0.89754673 0.10245327]\n",
      " [0.92408347 0.07591653]\n",
      " [0.84278741 0.15721259]\n",
      " [0.89697523 0.10302477]\n",
      " [0.78525662 0.21474338]\n",
      " [0.91483089 0.08516911]\n",
      " [0.9152665  0.0847335 ]\n",
      " [0.86694683 0.13305317]\n",
      " [0.93767092 0.06232908]\n",
      " [0.99002057 0.00997943]\n",
      " [0.77344565 0.22655435]\n",
      " [0.54940404 0.45059596]\n",
      " [0.89020846 0.10979154]\n",
      " [0.8965889  0.1034111 ]\n",
      " [0.91732194 0.08267806]\n",
      " [0.92555347 0.07444653]\n",
      " [0.82847275 0.17152725]\n",
      " [0.62540046 0.37459954]\n",
      " [0.73271859 0.26728141]\n",
      " [0.93548727 0.06451273]\n",
      " [0.88964182 0.11035818]\n",
      " [0.91802835 0.08197165]\n",
      " [0.82753729 0.17246271]\n",
      " [0.92143454 0.07856546]\n",
      " [0.97807235 0.02192765]\n",
      " [0.86122701 0.13877299]\n",
      " [0.92861307 0.07138693]\n",
      " [0.87722881 0.12277119]\n",
      " [0.57677623 0.42322377]\n",
      " [0.88702515 0.11297485]\n",
      " [0.87448477 0.12551523]\n",
      " [0.90486254 0.09513746]\n",
      " [0.92664025 0.07335975]\n",
      " [0.88047572 0.11952428]\n",
      " [0.54915433 0.45084567]\n",
      " [0.73929301 0.26070699]\n",
      " [0.96511017 0.03488983]\n",
      " [0.77058527 0.22941473]\n",
      " [0.87081113 0.12918887]\n",
      " [0.76787636 0.23212364]\n",
      " [0.9001877  0.0998123 ]\n",
      " [0.88769282 0.11230718]\n",
      " [0.74751026 0.25248974]\n",
      " [0.74702875 0.25297125]\n",
      " [0.89356783 0.10643217]\n",
      " [0.80142367 0.19857633]\n",
      " [0.75122552 0.24877448]\n",
      " [0.88119421 0.11880579]\n",
      " [0.92987878 0.07012122]\n",
      " [0.84985979 0.15014021]\n",
      " [0.87765393 0.12234607]\n",
      " [0.85651739 0.14348261]\n",
      " [0.80938333 0.19061667]\n",
      " [0.95772572 0.04227428]\n",
      " [0.85854896 0.14145104]\n",
      " [0.93383737 0.06616263]\n",
      " [0.71122678 0.28877322]\n",
      " [0.63705233 0.36294767]\n",
      " [0.97059169 0.02940831]\n",
      " [0.73307969 0.26692031]\n",
      " [0.93349164 0.06650836]\n",
      " [0.90791095 0.09208905]\n",
      " [0.88314026 0.11685974]\n",
      " [0.87875049 0.12124951]\n",
      " [0.78730268 0.21269732]\n",
      " [0.87961952 0.12038048]\n",
      " [0.87282437 0.12717563]\n",
      " [0.90108577 0.09891423]\n",
      " [0.80640567 0.19359433]\n",
      " [0.76880136 0.23119864]\n",
      " [0.78435003 0.21564997]\n",
      " [0.85875207 0.14124793]\n",
      " [0.7921622  0.2078378 ]\n",
      " [0.75336942 0.24663058]\n",
      " [0.60669285 0.39330715]\n",
      " [0.81565571 0.18434429]\n",
      " [0.88680974 0.11319026]\n",
      " [0.74177307 0.25822693]\n",
      " [0.82732078 0.17267922]\n",
      " [0.74485526 0.25514474]\n",
      " [0.83601992 0.16398008]\n",
      " [0.90697525 0.09302475]\n",
      " [0.90028864 0.09971136]\n",
      " [0.84981602 0.15018398]\n",
      " [0.89366985 0.10633015]\n",
      " [0.84894577 0.15105423]\n",
      " [0.89924499 0.10075501]\n",
      " [0.83046415 0.16953585]\n",
      " [0.80604913 0.19395087]\n",
      " [0.87561066 0.12438934]\n",
      " [0.84507784 0.15492216]\n",
      " [0.80659686 0.19340314]\n",
      " [0.86696927 0.13303073]\n",
      " [0.93310155 0.06689845]\n",
      " [0.82860392 0.17139608]\n",
      " [0.61592887 0.38407113]\n",
      " [0.79912544 0.20087456]\n",
      " [0.89555395 0.10444605]\n",
      " [0.67417827 0.32582173]\n",
      " [0.80326609 0.19673391]\n",
      " [0.82623016 0.17376984]\n",
      " [0.86073663 0.13926337]\n",
      " [0.74269408 0.25730592]\n",
      " [0.60383104 0.39616896]\n",
      " [0.75063068 0.24936932]\n",
      " [0.79720334 0.20279666]\n",
      " [0.92774674 0.07225326]\n",
      " [0.86731832 0.13268168]\n",
      " [0.88129231 0.11870769]\n",
      " [0.93714056 0.06285944]\n",
      " [0.93877977 0.06122023]\n",
      " [0.75333761 0.24666239]\n",
      " [0.82463093 0.17536907]\n",
      " [0.80852468 0.19147532]\n",
      " [0.98763763 0.01236237]\n",
      " [0.95345485 0.04654515]\n",
      " [0.95030738 0.04969262]\n",
      " [0.9682385  0.0317615 ]\n",
      " [0.86623952 0.13376048]\n",
      " [0.96523669 0.03476331]\n",
      " [0.82569017 0.17430983]\n",
      " [0.84407138 0.15592862]\n",
      " [0.74006666 0.25993334]\n",
      " [0.89749004 0.10250996]\n",
      " [0.83855982 0.16144018]\n",
      " [0.79177368 0.20822632]\n",
      " [0.8886896  0.1113104 ]\n",
      " [0.87621663 0.12378337]\n",
      " [0.87955842 0.12044158]\n",
      " [0.73595946 0.26404054]\n",
      " [0.8067932  0.1932068 ]\n",
      " [0.96563339 0.03436661]\n",
      " [0.84224468 0.15775532]\n",
      " [0.86892742 0.13107258]\n",
      " [0.8807073  0.1192927 ]\n",
      " [0.92100972 0.07899028]\n",
      " [0.70429769 0.29570231]\n",
      " [0.76162182 0.23837818]\n",
      " [0.96095187 0.03904813]\n",
      " [0.85255951 0.14744049]\n",
      " [0.93538692 0.06461308]\n",
      " [0.83549155 0.16450845]\n",
      " [0.94102683 0.05897317]\n",
      " [0.7472411  0.2527589 ]\n",
      " [0.77721459 0.22278541]\n",
      " [0.92455676 0.07544324]\n",
      " [0.67566329 0.32433671]\n",
      " [0.89944791 0.10055209]\n",
      " [0.74781642 0.25218358]\n",
      " [0.96480514 0.03519486]\n",
      " [0.84671305 0.15328695]\n",
      " [0.75449792 0.24550208]\n",
      " [0.74470078 0.25529922]\n",
      " [0.82085582 0.17914418]\n",
      " [0.87853612 0.12146388]\n",
      " [0.81758301 0.18241699]\n",
      " [0.86082732 0.13917268]\n",
      " [0.96457151 0.03542849]\n",
      " [0.95688848 0.04311152]\n",
      " [0.53218719 0.46781281]\n",
      " [0.83670836 0.16329164]\n",
      " [0.92299289 0.07700711]\n",
      " [0.89512247 0.10487753]\n",
      " [0.59824001 0.40175999]\n",
      " [0.86258914 0.13741086]\n",
      " [0.893383   0.106617  ]\n",
      " [0.85039165 0.14960835]\n",
      " [0.88882397 0.11117603]\n",
      " [0.898273   0.101727  ]\n",
      " [0.67417097 0.32582903]\n",
      " [0.86925855 0.13074145]\n",
      " [0.89044699 0.10955301]\n",
      " [0.81818351 0.18181649]\n",
      " [0.9239505  0.0760495 ]\n",
      " [0.80457577 0.19542423]\n",
      " [0.8206096  0.1793904 ]\n",
      " [0.92266387 0.07733613]\n",
      " [0.88732849 0.11267151]\n",
      " [0.89628399 0.10371601]\n",
      " [0.78221281 0.21778719]\n",
      " [0.72059302 0.27940698]\n",
      " [0.91267875 0.08732125]\n",
      " [0.79672212 0.20327788]\n",
      " [0.97364123 0.02635877]\n",
      " [0.81709923 0.18290077]\n",
      " [0.73500631 0.26499369]\n",
      " [0.95853848 0.04146152]\n",
      " [0.79739216 0.20260784]\n",
      " [0.77732923 0.22267077]\n",
      " [0.9122111  0.0877889 ]\n",
      " [0.81539733 0.18460267]\n",
      " [0.88815933 0.11184067]\n",
      " [0.98349222 0.01650778]\n",
      " [0.8194603  0.1805397 ]\n",
      " [0.85371323 0.14628677]\n",
      " [0.81327897 0.18672103]\n",
      " [0.75715037 0.24284963]\n",
      " [0.93561211 0.06438789]\n",
      " [0.8326158  0.1673842 ]\n",
      " [0.84296925 0.15703075]\n",
      " [0.87361264 0.12638736]\n",
      " [0.8309091  0.1690909 ]\n",
      " [0.94037749 0.05962251]\n",
      " [0.93424172 0.06575828]\n",
      " [0.84611273 0.15388727]\n",
      " [0.86735779 0.13264221]\n",
      " [0.96268729 0.03731271]\n",
      " [0.75560164 0.24439836]\n",
      " [0.90431937 0.09568063]\n",
      " [0.79949114 0.20050886]\n",
      " [0.88578938 0.11421062]\n",
      " [0.89444108 0.10555892]\n",
      " [0.83298842 0.16701158]\n",
      " [0.79652892 0.20347108]\n",
      " [0.9054208  0.0945792 ]\n",
      " [0.7983607  0.2016393 ]\n",
      " [0.85311786 0.14688214]\n",
      " [0.87322139 0.12677861]\n",
      " [0.78976832 0.21023168]\n",
      " [0.59526147 0.40473853]\n",
      " [0.78648327 0.21351673]\n",
      " [0.92921012 0.07078988]\n",
      " [0.882382   0.117618  ]\n",
      " [0.8622532  0.1377468 ]\n",
      " [0.80641327 0.19358673]\n",
      " [0.79089541 0.20910459]\n",
      " [0.8795575  0.1204425 ]\n",
      " [0.86860522 0.13139478]\n",
      " [0.8238231  0.1761769 ]\n",
      " [0.85874399 0.14125601]\n",
      " [0.87623765 0.12376235]\n",
      " [0.76637016 0.23362984]\n",
      " [0.86078264 0.13921736]\n",
      " [0.93145689 0.06854311]\n",
      " [0.92302812 0.07697188]\n",
      " [0.86253212 0.13746788]\n",
      " [0.73798686 0.26201314]\n",
      " [0.88701747 0.11298253]\n",
      " [0.98444387 0.01555613]\n",
      " [0.84643416 0.15356584]\n",
      " [0.87802906 0.12197094]\n",
      " [0.89944356 0.10055644]\n",
      " [0.87728361 0.12271639]\n",
      " [0.84132487 0.15867513]\n",
      " [0.8032146  0.1967854 ]\n",
      " [0.84460094 0.15539906]\n",
      " [0.81021467 0.18978533]\n",
      " [0.96399117 0.03600883]\n",
      " [0.88090551 0.11909449]\n",
      " [0.84150819 0.15849181]\n",
      " [0.84702629 0.15297371]\n",
      " [0.95918486 0.04081514]\n",
      " [0.94335165 0.05664835]\n",
      " [0.82781114 0.17218886]\n",
      " [0.89194402 0.10805598]\n",
      " [0.80508632 0.19491368]\n",
      " [0.92539085 0.07460915]\n",
      " [0.77040171 0.22959829]\n",
      " [0.86980843 0.13019157]\n",
      " [0.76875695 0.23124305]\n",
      " [0.88296979 0.11703021]\n",
      " [0.78058031 0.21941969]\n",
      " [0.91722013 0.08277987]\n",
      " [0.864096   0.135904  ]\n",
      " [0.82891175 0.17108825]\n",
      " [0.73345498 0.26654502]\n",
      " [0.84254814 0.15745186]\n",
      " [0.95109834 0.04890166]\n",
      " [0.93948044 0.06051956]\n",
      " [0.87430471 0.12569529]\n",
      " [0.91226982 0.08773018]\n",
      " [0.86255984 0.13744016]\n",
      " [0.53472377 0.46527623]\n",
      " [0.76568074 0.23431926]\n",
      " [0.70092117 0.29907883]\n",
      " [0.64088939 0.35911061]\n",
      " [0.78930714 0.21069286]\n",
      " [0.7822749  0.2177251 ]\n",
      " [0.86001116 0.13998884]\n",
      " [0.90942929 0.09057071]\n",
      " [0.84256555 0.15743445]\n",
      " [0.80826032 0.19173968]\n",
      " [0.73951867 0.26048133]\n",
      " [0.93748045 0.06251955]\n",
      " [0.63815203 0.36184797]\n",
      " [0.83218231 0.16781769]\n",
      " [0.94359658 0.05640342]\n",
      " [0.73767286 0.26232714]\n",
      " [0.85660096 0.14339904]\n",
      " [0.62069483 0.37930517]\n",
      " [0.84764894 0.15235106]\n",
      " [0.81833165 0.18166835]\n",
      " [0.87102382 0.12897618]\n",
      " [0.91306211 0.08693789]\n",
      " [0.92934046 0.07065954]\n",
      " [0.82979887 0.17020113]\n",
      " [0.83995346 0.16004654]\n",
      " [0.89662021 0.10337979]\n",
      " [0.54310276 0.45689724]\n",
      " [0.89112569 0.10887431]\n",
      " [0.82312818 0.17687182]\n",
      " [0.94043054 0.05956946]\n",
      " [0.89335876 0.10664124]\n",
      " [0.86081542 0.13918458]\n",
      " [0.84523241 0.15476759]\n",
      " [0.91140491 0.08859509]\n",
      " [0.9768173  0.0231827 ]\n",
      " [0.78398706 0.21601294]\n",
      " [0.85258305 0.14741695]\n",
      " [0.9108501  0.0891499 ]\n",
      " [0.90471711 0.09528289]\n",
      " [0.79394718 0.20605282]\n",
      " [0.85776677 0.14223323]\n",
      " [0.82541682 0.17458318]\n",
      " [0.75204399 0.24795601]\n",
      " [0.52331843 0.47668157]\n",
      " [0.76430498 0.23569502]\n",
      " [0.78264945 0.21735055]\n",
      " [0.81509892 0.18490108]\n",
      " [0.8554996  0.1445004 ]\n",
      " [0.92252434 0.07747566]\n",
      " [0.85503129 0.14496871]\n",
      " [0.89019204 0.10980796]\n",
      " [0.92338451 0.07661549]\n",
      " [0.94021768 0.05978232]\n",
      " [0.96340072 0.03659928]\n",
      " [0.80980284 0.19019716]\n",
      " [0.83833405 0.16166595]\n",
      " [0.89363978 0.10636022]\n",
      " [0.79362928 0.20637072]\n",
      " [0.79352956 0.20647044]\n",
      " [0.89809791 0.10190209]\n",
      " [0.88923139 0.11076861]\n",
      " [0.82686712 0.17313288]\n",
      " [0.8598416  0.1401584 ]\n",
      " [0.90553437 0.09446563]]\n"
     ]
    }
   ],
   "source": [
    "probs = model2.predict_proba(x_test)\n",
    "print (probs)"
   ]
  },
  {
   "cell_type": "code",
   "execution_count": null,
   "metadata": {},
   "outputs": [],
   "source": []
  }
 ],
 "metadata": {
  "kernelspec": {
   "display_name": "Python 3",
   "language": "python",
   "name": "python3"
  },
  "language_info": {
   "codemirror_mode": {
    "name": "ipython",
    "version": 3
   },
   "file_extension": ".py",
   "mimetype": "text/x-python",
   "name": "python",
   "nbconvert_exporter": "python",
   "pygments_lexer": "ipython3",
   "version": "3.8.3"
  }
 },
 "nbformat": 4,
 "nbformat_minor": 4
}
